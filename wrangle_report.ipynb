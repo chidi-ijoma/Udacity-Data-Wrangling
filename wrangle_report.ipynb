{
 "cells": [
  {
   "cell_type": "markdown",
   "id": "a5ff1c02",
   "metadata": {},
   "source": [
    "## Wrangle Report\n",
    "\n",
    "Wrangling this data was very interesting, as it required me to gather, assess, and clean the data itself before investigating the data. This was very different from my experience of essentially receiving near perfectly clean data and analyse it from there without thinking about how it was gathered.  \n",
    "\n",
    "I can see that getting data from multiple sources can be difficult in the real world since understanding how to gather the data can be a challenge in itself. For example, importing the data from a CSV was relatively easy but gathering by downloading the TSV file and the data from the Twitter API took additional effort.  \n",
    "\n",
    "I visually and programmatically assessed the data and detected issues, which I highlighted, however I did not highlight all for the sake of not making this project lengthy. I performed several cleaning tasks such as changing datatypes, replacing specific values in columns, dropping columns and duplicate values and other. I achieved all this using combinations of different modules, methods, functions, loops and more in my code. I also documented my actions with in the code using comments and markdown cells.  \n",
    "\n",
    "This project showed me the necessity of assessing and cleaning the data as well as how much time it can take. There were multiple times where I assessed the data and started cleaning only to realize I missed a feature of the data that I should have caught during the assessment. I would have to go back, document the issue and then proceed to clean that issue before going on to my original efforts. This to me showed me the importance of thoroughly assessing the data and the wrangling truly is an iterative process.  \n",
    "\n",
    "The cleaning though was definitely the most time consuming part of wrangling the data. It was surprising how much I would later on adjust and how some of the issues required to be closely looked at over again. Even considering that, I did not clean everything! The projects requirements stated that cleaning all issues was not necessary, but I could see that cleaning can easily take a large amount of time before even doing any analysis.  \n",
    "\n",
    "Overall, I am satisfied with my efforts in wrangling this data and I will keep in mind all the knowledge and experience I have gained in assessing my data before investigating it for future projects."
   ]
  }
 ],
 "metadata": {
  "kernelspec": {
   "display_name": "Python 3 (ipykernel)",
   "language": "python",
   "name": "python3"
  },
  "language_info": {
   "codemirror_mode": {
    "name": "ipython",
    "version": 3
   },
   "file_extension": ".py",
   "mimetype": "text/x-python",
   "name": "python",
   "nbconvert_exporter": "python",
   "pygments_lexer": "ipython3",
   "version": "3.9.12"
  }
 },
 "nbformat": 4,
 "nbformat_minor": 5
}
